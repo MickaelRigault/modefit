{
 "cells": [
  {
   "cell_type": "markdown",
   "metadata": {},
   "source": [
    "# How to Fit a Normal Distribution accounting for data errors and instrinsic dispersion? \n",
    "## Test example\n",
    "\n",
    "We are going to use scipy to create a data (200 points) having:\n",
    "\n",
    "* a mean of 3\n",
    "* an intrinsic disperison of 0.5\n",
    "* each point has a random error between 0.2 and 0.7\n"
   ]
  },
  {
   "cell_type": "markdown",
   "metadata": {},
   "source": [
    "#### Basic ipython notebook import "
   ]
  },
  {
   "cell_type": "code",
   "execution_count": 1,
   "metadata": {
    "collapsed": true
   },
   "outputs": [],
   "source": [
    "# plot within the notebook\n",
    "%matplotlib inline\n",
    "import warnings\n",
    "# No annoying warnings\n",
    "warnings.filterwarnings('ignore')\n",
    "# Because we always need that\n",
    "import numpy as np\n",
    "import matplotlib.pyplot as mpl"
   ]
  },
  {
   "cell_type": "code",
   "execution_count": 11,
   "metadata": {
    "collapsed": true
   },
   "outputs": [],
   "source": [
    "errors= np.random.rand(200)/0.5 +0.2\n",
    "data = np.random.normal(loc=3, scale=0.5, size=200) * (1 + np.random.normal(loc=0, scale=errors))\n"
   ]
  },
  {
   "cell_type": "markdown",
   "metadata": {},
   "source": [
    "## Check the Input data"
   ]
  },
  {
   "cell_type": "code",
   "execution_count": 12,
   "metadata": {
    "collapsed": false
   },
   "outputs": [
    {
     "data": {
      "text/plain": [
       "(array([ 13.,  23.,  15.,  24.,  16.,  20.,  19.,  23.,  29.,  18.]),\n",
       " array([ 0.20595285,  0.40479052,  0.60362818,  0.80246585,  1.00130352,\n",
       "         1.20014118,  1.39897885,  1.59781652,  1.79665419,  1.99549185,\n",
       "         2.19432952]),\n",
       " <a list of 1 Patch objects>)"
      ]
     },
     "execution_count": 12,
     "metadata": {},
     "output_type": "execute_result"
    },
    {
     "data": {
      "image/png": "[encoded data removed]",
      "text/plain": [
       "<matplotlib.figure.Figure at 0x108fbb050>"
      ]
     },
     "metadata": {},
     "output_type": "display_data"
    }
   ],
   "source": [
    "fig = mpl.figure(figsize=[10,5])\n",
    "ax1 = fig.add_subplot(121)\n",
    "ax2 = fig.add_subplot(122)\n",
    "prop = dict( histtype=\"step\", fill=True, fc=mpl.cm.Blues(0.5,0.3), ec=\"k\", lw=2)\n",
    "ax1.hist(data, **prop)\n",
    "ax2.hist(errors,**prop)"
   ]
  },
  {
   "cell_type": "markdown",
   "metadata": {},
   "source": [
    "## What would mean and std told you ?"
   ]
  },
  {
   "cell_type": "code",
   "execution_count": 13,
   "metadata": {
    "collapsed": false
   },
   "outputs": [
    {
     "name": "stdout",
     "output_type": "stream",
     "text": [
      "mean:  3.13926557093\n",
      "std:  3.96584717707\n",
      " => error on the mean:  0.280427743206\n",
      " => error on the std:  0.198292358854\n"
     ]
    }
   ],
   "source": [
    "print \"mean: \", np.mean(data)\n",
    "print \"std: \", np.std(data)\n",
    "print \" => error on the mean: \",np.std(data)/np.sqrt(len(data))\n",
    "print \" => error on the std: \",np.std(data)/np.sqrt(2*len(data))"
   ]
  },
  {
   "cell_type": "markdown",
   "metadata": {},
   "source": [
    "# Fit this with a Likelihood"
   ]
  },
  {
   "cell_type": "code",
   "execution_count": 14,
   "metadata": {
    "collapsed": false
   },
   "outputs": [
    {
     "data": {
      "text/plain": [
       "<module 'modefit.fitter.unimodal' from '/Users/mrigault/Libraries/modefit/fitter/unimodal.pyc'>"
      ]
     },
     "execution_count": 14,
     "metadata": {},
     "output_type": "execute_result"
    }
   ],
   "source": [
    "import modefit\n",
    "reload(modefit) ; reload(modefit.fitter) ; reload(modefit.fitter.unimodal)"
   ]
  },
  {
   "cell_type": "code",
   "execution_count": 15,
   "metadata": {
    "collapsed": false
   },
   "outputs": [],
   "source": [
    "normfit = modefit.normalfit(data,errors)"
   ]
  },
  {
   "cell_type": "code",
   "execution_count": 18,
   "metadata": {
    "collapsed": false
   },
   "outputs": [
    {
     "name": "stdout",
     "output_type": "stream",
     "text": [
      "STARTS MINUIT FIT\n"
     ]
    },
    {
     "data": {
      "text/html": [
       "<hr>"
      ]
     },
     "metadata": {},
     "output_type": "display_data"
    },
    {
     "data": {
      "text/html": [
       "\n",
       "        <table>\n",
       "            <tr>\n",
       "                <td title=\"Minimum value of function\">FCN = 1105.94685924</td>\n",
       "                <td title=\"Total number of call to FCN so far\">TOTAL NCALL = 37</td>\n",
       "                <td title=\"Number of call in last migrad\">NCALLS = 37</td>\n",
       "            </tr>\n",
       "            <tr>\n",
       "                <td title=\"Estimated distance to minimum\">EDM = 5.20761912231e-06</td>\n",
       "                <td title=\"Maximum EDM definition of convergence\">GOAL EDM = 1e-05</td>\n",
       "                <td title=\"Error def. Amount of increase in FCN to be defined as 1 standard deviation\">\n",
       "                UP = 1.0</td>\n",
       "            </tr>\n",
       "        </table>\n",
       "        \n",
       "        <table>\n",
       "            <tr>\n",
       "                <td align=\"center\" title=\"Validity of the migrad call\">Valid</td>\n",
       "                <td align=\"center\" title=\"Validity of parameters\">Valid Param</td>\n",
       "                <td align=\"center\" title=\"Is Covariance matrix accurate?\">Accurate Covar</td>\n",
       "                <td align=\"center\" title=\"Positive definiteness of covariance matrix\">PosDef</td>\n",
       "                <td align=\"center\" title=\"Was covariance matrix made posdef by adding diagonal element\">Made PosDef</td>\n",
       "            </tr>\n",
       "            <tr>\n",
       "                <td align=\"center\" style=\"background-color:#92CCA6\">True</td>\n",
       "                <td align=\"center\" style=\"background-color:#92CCA6\">True</td>\n",
       "                <td align=\"center\" style=\"background-color:#92CCA6\">True</td>\n",
       "                <td align=\"center\" style=\"background-color:#92CCA6\">True</td>\n",
       "                <td align=\"center\" style=\"background-color:#92CCA6\">False</td>\n",
       "            </tr>\n",
       "            <tr>\n",
       "                <td align=\"center\" title=\"Was last hesse call fail?\">Hesse Fail</td>\n",
       "                <td align=\"center\" title=\"Validity of covariance\">HasCov</td>\n",
       "                <td align=\"center\" title=\"Is EDM above goal EDM?\">Above EDM</td>\n",
       "                <td align=\"center\"></td>\n",
       "                <td align=\"center\" title=\"Did last migrad call reach max call limit?\">Reach calllim</td>\n",
       "            </tr>\n",
       "            <tr>\n",
       "                <td align=\"center\" style=\"background-color:#92CCA6\">False</td>\n",
       "                <td align=\"center\" style=\"background-color:#92CCA6\">True</td>\n",
       "                <td align=\"center\" style=\"background-color:#92CCA6\">False</td>\n",
       "                <td align=\"center\"></td>\n",
       "                <td align=\"center\" style=\"background-color:#92CCA6\">False</td>\n",
       "            </tr>\n",
       "        </table>\n",
       "        "
      ]
     },
     "metadata": {},
     "output_type": "display_data"
    },
    {
     "data": {
      "text/html": [
       "\n",
       "        <table>\n",
       "            <tr>\n",
       "                <td><a href=\"#\" onclick=\"$('#TIqvrzOmHX').toggle()\">+</a></td>\n",
       "                <td title=\"Variable name\">Name</td>\n",
       "                <td title=\"Value of parameter\">Value</td>\n",
       "                <td title=\"Parabolic error\">Parab Error</td>\n",
       "                <td title=\"Minos lower error\">Minos Error-</td>\n",
       "                <td title=\"Minos upper error\">Minos Error+</td>\n",
       "                <td title=\"Lower limit of the parameter\">Limit-</td>\n",
       "                <td title=\"Upper limit of the parameter\">Limit+</td>\n",
       "                <td title=\"Is the parameter fixed in the fit\">FIXED</td>\n",
       "            </tr>\n",
       "        \n",
       "            <tr>\n",
       "                <td>1</td>\n",
       "                <td>mean</td>\n",
       "                <td>3.13981</td>\n",
       "                <td>0.262285</td>\n",
       "                <td>0</td>\n",
       "                <td>0</td>\n",
       "                <td>-10.0</td>\n",
       "                <td>10.0</td>\n",
       "                <td></td>\n",
       "            </tr>\n",
       "            \n",
       "            <tr>\n",
       "                <td>2</td>\n",
       "                <td>sigma</td>\n",
       "                <td>3.46266</td>\n",
       "                <td>0.211506</td>\n",
       "                <td>0</td>\n",
       "                <td>0</td>\n",
       "                <td>0.0</td>\n",
       "                <td>10.0</td>\n",
       "                <td></td>\n",
       "            </tr>\n",
       "            \n",
       "            </table>\n",
       "        \n",
       "            <pre id=\"TIqvrzOmHX\" style=\"display:none;\">\n",
       "            <textarea rows=\"10\" cols=\"50\" onclick=\"this.select()\" readonly>\\begin{tabular}{|c|r|r|r|r|r|r|r|c|}\n",
       "\\hline\n",
       " & Name & Value & Para Error & Error+ & Error- & Limit+ & Limit- & FIXED\\\\\n",
       "\\hline\n",
       "1 & mean & 3.140e+00 & 2.623e-01 &  &  & -1.000e+01 & 1.000e+01 & \\\\\n",
       "\\hline\n",
       "2 & $\\sigma$ & 3.463e+00 & 2.115e-01 &  &  & 0.000e+00 & 1.000e+01 & \\\\\n",
       "\\hline\n",
       "\\end{tabular}</textarea>\n",
       "            </pre>\n",
       "            "
      ]
     },
     "metadata": {},
     "output_type": "display_data"
    },
    {
     "data": {
      "text/html": [
       "<hr>"
      ]
     },
     "metadata": {},
     "output_type": "display_data"
    }
   ],
   "source": [
    "normfit.fit(mean_guess=2, mean_boundaries=[-10,10], sigma_guess=3, sigma_boundaries=[0,10])"
   ]
  },
  {
   "cell_type": "code",
   "execution_count": null,
   "metadata": {
    "collapsed": true
   },
   "outputs": [],
   "source": []
  }
 ],
 "metadata": {
  "kernelspec": {
   "display_name": "Python 2",
   "language": "python",
   "name": "python2"
  },
  "language_info": {
   "codemirror_mode": {
    "name": "ipython",
    "version": 2
   },
   "file_extension": ".py",
   "mimetype": "text/x-python",
   "name": "python",
   "nbconvert_exporter": "python",
   "pygments_lexer": "ipython2",
   "version": "2.7.10"
  }
 },
 "nbformat": 4,
 "nbformat_minor": 0
}
