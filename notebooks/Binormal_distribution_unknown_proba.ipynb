{
 "cells": [
  {
   "cell_type": "code",
   "execution_count": 1,
   "metadata": {
    "collapsed": true
   },
   "outputs": [],
   "source": [
    "import warnings\n",
    "# No annoying warningsr\n",
    "warnings.filterwarnings('ignore')\n",
    "# Because we always need that\n",
    "# plot within the notebook\n",
    "%matplotlib notebook"
   ]
  },
  {
   "cell_type": "code",
   "execution_count": 28,
   "metadata": {
    "collapsed": true
   },
   "outputs": [],
   "source": [
    "import numpy as np\n",
    "import matplotlib.pyplot as mpl"
   ]
  },
  {
   "cell_type": "code",
   "execution_count": 5,
   "metadata": {
    "collapsed": false
   },
   "outputs": [],
   "source": [
    "import modefit"
   ]
  },
  {
   "cell_type": "code",
   "execution_count": 6,
   "metadata": {
    "collapsed": true
   },
   "outputs": [],
   "source": [
    "x1  = np.random.normal(loc=1, scale=2, size=200)\n",
    "x2 = np.random.normal(loc=3, scale=20, size=300)\n",
    "x  = np.concatenate([x1,x2])\n",
    "e  = np.random.normal(loc=0, scale=0.1, size=500)"
   ]
  },
  {
   "cell_type": "code",
   "execution_count": 18,
   "metadata": {
    "collapsed": false
   },
   "outputs": [
    {
     "data": {
      "text/plain": [
       "<module 'modefit.fitter.bimodal' from '/Users/mrigault/Libraries/modefit/fitter/bimodal.py'>"
      ]
     },
     "execution_count": 18,
     "metadata": {},
     "output_type": "execute_result"
    }
   ],
   "source": [
    "reload(modefit.fitter.bimodal)"
   ]
  },
  {
   "cell_type": "code",
   "execution_count": 24,
   "metadata": {
    "collapsed": false
   },
   "outputs": [],
   "source": [
    "nfit = modefit.bimodal.bimodal_fit(x,e)"
   ]
  },
  {
   "cell_type": "code",
   "execution_count": 25,
   "metadata": {
    "collapsed": false
   },
   "outputs": [
    {
     "data": {
      "text/plain": [
       "['mean_a', 'sigma_a', 'mean_b', 'sigma_b', 'proba_a']"
      ]
     },
     "execution_count": 25,
     "metadata": {},
     "output_type": "execute_result"
    }
   ],
   "source": [
    "nfit.model.FREEPARAMETERS"
   ]
  },
  {
   "cell_type": "code",
   "execution_count": 30,
   "metadata": {
    "collapsed": false
   },
   "outputs": [],
   "source": [
    "nfit.fit(proba_a_guess=0.5, mean_a_guess=0, mean_b_guess=0,\n",
    "         sigma_a_guess=2, sigma_b_guess=10)"
   ]
  },
  {
   "cell_type": "code",
   "execution_count": 31,
   "metadata": {
    "collapsed": false
   },
   "outputs": [
    {
     "data": {
      "text/plain": [
       "{'chi2': 3934.7367323686594,\n",
       " 'mean_a': 0.94592398379655396,\n",
       " 'mean_a.err': 0.21416935904979123,\n",
       " 'mean_b': 3.8487117214515485,\n",
       " 'mean_b.err': 1.1566007407326317,\n",
       " 'proba_a': 0.39585740736966168,\n",
       " 'proba_a.err': 0.031837054230099027,\n",
       " 'sigma_a': 2.2525064267682628,\n",
       " 'sigma_a.err': 0.21519941642795598,\n",
       " 'sigma_b': 19.963245320887403,\n",
       " 'sigma_b.err': 0.88937293921416349}"
      ]
     },
     "execution_count": 31,
     "metadata": {},
     "output_type": "execute_result"
    }
   ],
   "source": [
    "nfit.fitvalues"
   ]
  },
  {
   "cell_type": "code",
   "execution_count": null,
   "metadata": {
    "collapsed": true
   },
   "outputs": [],
   "source": []
  }
 ],
 "metadata": {
  "kernelspec": {
   "display_name": "Python 2",
   "language": "python",
   "name": "python2"
  },
  "language_info": {
   "codemirror_mode": {
    "name": "ipython",
    "version": 2
   },
   "file_extension": ".py",
   "mimetype": "text/x-python",
   "name": "python",
   "nbconvert_exporter": "python",
   "pygments_lexer": "ipython2",
   "version": "2.7.12"
  }
 },
 "nbformat": 4,
 "nbformat_minor": 0
}
